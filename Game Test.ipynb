{
 "cells": [
  {
   "cell_type": "code",
   "execution_count": 1,
   "metadata": {
    "collapsed": false
   },
   "outputs": [],
   "source": [
    "from game.pile import Pile\n",
    "from game.player import Player\n",
    "from game.deck import Deck\n",
    "from random import choice\n",
    "\n",
    "%load_ext autoreload\n",
    "%autoreload 2"
   ]
  },
  {
   "cell_type": "code",
   "execution_count": 2,
   "metadata": {
    "collapsed": false
   },
   "outputs": [
    {
     "data": {
      "text/plain": [
       "54"
      ]
     },
     "execution_count": 2,
     "metadata": {},
     "output_type": "execute_result"
    }
   ],
   "source": [
    "deck = Deck()\n",
    "deck.shuffle()\n",
    "len(deck.cards)"
   ]
  },
  {
   "cell_type": "code",
   "execution_count": 3,
   "metadata": {
    "collapsed": false
   },
   "outputs": [],
   "source": [
    "chameleon = 7\n",
    "c = choice(deck.cards)\n",
    "deck.cards.remove(c)\n",
    "pile = Pile(chameleon, c)\n",
    "p1 = Player(chameleon)\n",
    "p2 = Player(chameleon)\n",
    "for i in range(0,5):\n",
    "    p1.take_card(deck)\n",
    "    p2.take_card(deck)"
   ]
  },
  {
   "cell_type": "code",
   "execution_count": 4,
   "metadata": {
    "collapsed": false
   },
   "outputs": [
    {
     "name": "stdout",
     "output_type": "stream",
     "text": [
      "5 5\n",
      "[Card(suite='spades', value=10)]\n",
      "[Card(suite='spades', value=2)]\n",
      "5 5\n",
      "[Card(suite='hearts', value=5), Card(suite='hearts', value=6), Card(suite='clubs', value=8), Card(suite='clubs', value=10), Card(suite='hearts', value=11)]\n",
      "[Card(suite='hearts', value=7), Card(suite='hearts', value=10), Card(suite='hearts', value=12)]\n",
      "5 5\n",
      "[Card(suite='hearts', value=6), Card(suite='hearts', value=11)]\n",
      "[Card(suite='hearts', value=10), Card(suite='hearts', value=12)]\n",
      "5 5\n",
      "[Card(suite='hearts', value=11)]\n",
      "[Card(suite='hearts', value=12)]\n",
      "5 5\n",
      "[Card(suite='hearts', value=1)]\n",
      "diamonds\n",
      "5 5\n",
      "[Card(suite='diamonds', value=3), Card(suite='diamonds', value=11)]\n",
      "[Card(suite='diamonds', value=13)]\n",
      "5 5\n",
      "[Card(suite='diamonds', value=11)]\n",
      "[Card(suite='clubs', value=5), Card(suite='clubs', value=6), Card(suite='clubs', value=9), Card(suite='clubs', value=13), Card(suite='spades', value=13)]\n",
      "5 5\n",
      "[Card(suite='clubs', value=8), Card(suite='clubs', value=10)]\n",
      "[Card(suite='clubs', value=1), Card(suite='clubs', value=6), Card(suite='clubs', value=9), Card(suite='clubs', value=13)]\n",
      "5 5\n",
      "[Card(suite='clubs', value=10)]\n",
      "[Card(suite='clubs', value=6), Card(suite='clubs', value=9), Card(suite='clubs', value=13)]\n",
      "5 5\n",
      "spades\n",
      "[Card(suite='spades', value=13)]\n",
      "5 5\n",
      "[Card(suite='spades', value=1), Card(suite='spades', value=3), Card(suite='spades', value=4), Card(suite='spades', value=6)]\n",
      "[Card(suite='hearts', value=2), Card(suite='clubs', value=2), Card(suite='diamonds', value=5), Card(suite='clubs', value=9), Card(suite='clubs', value=13)]\n",
      "5 5\n",
      "[Card(suite='hearts', value=13)]\n",
      "[Card(suite='clubs', value=2), Card(suite='diamonds', value=5), Card(suite='clubs', value=9), Card(suite='spades', value=12), Card(suite='clubs', value=13)]\n",
      "5 5\n",
      "[Card(suite='spades', value=3), Card(suite='spades', value=4), Card(suite='spades', value=6), Card(suite='diamonds', value=8), Card(suite='diamonds', value=9)]\n",
      "[Card(suite='spades', value=12)]\n",
      "5 5\n",
      "[Card(suite='spades', value=4), Card(suite='spades', value=6)]\n",
      "clubs\n",
      "5 5\n",
      "[Card(suite='diamonds', value=2), Card(suite='hearts', value=3), Card(suite='spades', value=6), Card(suite='diamonds', value=8), Card(suite='diamonds', value=9)]\n",
      "[Card(suite='diamonds', value=1), Card(suite='diamonds', value=5)]\n",
      "5 5\n",
      "[Card(suite='diamonds', value=8), Card(suite='diamonds', value=9)]\n",
      "[Card(suite='diamonds', value=5), Card(suite='diamonds', value=10)]\n",
      "5 5\n",
      "[Card(suite='diamonds', value=9)]\n",
      "[Card(suite='diamonds', value=10)]\n",
      "5 5\n",
      "hearts\n",
      "[Card(suite='hearts', value=8)]\n",
      "5 5\n",
      "[Card(suite='hearts', value=3), Card(suite='hearts', value=4)]\n",
      "[Card(suite='clubs', value=4), Card(suite='diamonds', value=4), Card(suite='spades', value=8), Card(suite='clubs', value=9), Card(suite='clubs', value=13)]\n",
      "5 5\n",
      "[Card(suite='clubs', value=3)]\n",
      "[Card(suite='clubs', value=9), Card(suite='clubs', value=11), Card(suite='clubs', value=13)]\n",
      "5 5\n",
      "[Card(suite='hearts', value=4), Card(suite='spades', value=6), Card(suite='spades', value=9), Card(suite='hearts', value=9), Card(suite='diamonds', value=12)]\n",
      "diamonds\n",
      "5 5\n",
      "[Card(suite='diamonds', value=12)]\n",
      "[Card(suite='diamonds', value=4), Card(suite='diamonds', value=6)]\n",
      "5 4\n",
      "[Card(suite='spades', value=5), Card(suite='spades', value=6), Card(suite='spades', value=9), Card(suite='hearts', value=9), Card(suite='clubs', value=12)]\n",
      "[Card(suite='spades', value=8)]\n",
      "4 3\n",
      "[Card(suite='spades', value=6), Card(suite='spades', value=9)]\n",
      "[Card(suite='diamonds', value=6), Card(suite='clubs', value=11), Card(suite='clubs', value=13)]\n",
      "3 2\n",
      "[Card(suite='spades', value=9), Card(suite='hearts', value=9), Card(suite='clubs', value=12)]\n",
      "[Card(suite='clubs', value=11), Card(suite='clubs', value=13)]\n",
      "2 1\n",
      "[Card(suite='clubs', value=12)]\n",
      "[Card(suite='clubs', value=13)]\n",
      "1 0\n",
      "[Card(suite='hearts', value=9)]\n"
     ]
    }
   ],
   "source": [
    "while p1.has_cards() or p2.has_cards():\n",
    "    print(len(p1.hand), len(p2.hand))\n",
    "    p1.deal(pile)\n",
    "    p1.take_card(deck)\n",
    "    p2.deal(pile)\n",
    "    p2.take_card(deck)\n",
    "    "
   ]
  },
  {
   "cell_type": "code",
   "execution_count": 13,
   "metadata": {
    "collapsed": false
   },
   "outputs": [
    {
     "data": {
      "text/plain": [
       "(False, False, [])"
      ]
     },
     "execution_count": 13,
     "metadata": {},
     "output_type": "execute_result"
    }
   ],
   "source": [
    "p1.has_chameleon(), p1.has_joker(), p1.hand"
   ]
  },
  {
   "cell_type": "code",
   "execution_count": 14,
   "metadata": {
    "collapsed": false
   },
   "outputs": [
    {
     "data": {
      "text/plain": [
       "(False, False, [])"
      ]
     },
     "execution_count": 14,
     "metadata": {},
     "output_type": "execute_result"
    }
   ],
   "source": [
    "p2.has_chameleon(), p2.has_joker(), p2.hand"
   ]
  },
  {
   "cell_type": "code",
   "execution_count": 15,
   "metadata": {
    "collapsed": false
   },
   "outputs": [
    {
     "data": {
      "text/plain": [
       "[]"
      ]
     },
     "execution_count": 15,
     "metadata": {},
     "output_type": "execute_result"
    }
   ],
   "source": [
    "deck.cards"
   ]
  },
  {
   "cell_type": "code",
   "execution_count": 16,
   "metadata": {
    "collapsed": false
   },
   "outputs": [
    {
     "data": {
      "text/plain": [
       "0"
      ]
     },
     "execution_count": 16,
     "metadata": {},
     "output_type": "execute_result"
    }
   ],
   "source": [
    "p1.penalty_score()"
   ]
  },
  {
   "cell_type": "code",
   "execution_count": 17,
   "metadata": {
    "collapsed": false
   },
   "outputs": [
    {
     "data": {
      "text/plain": [
       "0"
      ]
     },
     "execution_count": 17,
     "metadata": {},
     "output_type": "execute_result"
    }
   ],
   "source": [
    "p2.penalty_score()"
   ]
  },
  {
   "cell_type": "code",
   "execution_count": 18,
   "metadata": {
    "collapsed": false
   },
   "outputs": [
    {
     "data": {
      "text/plain": [
       "[]"
      ]
     },
     "execution_count": 18,
     "metadata": {},
     "output_type": "execute_result"
    }
   ],
   "source": [
    "p2.hand"
   ]
  },
  {
   "cell_type": "code",
   "execution_count": 19,
   "metadata": {
    "collapsed": false
   },
   "outputs": [
    {
     "data": {
      "text/plain": [
       "[]"
      ]
     },
     "execution_count": 19,
     "metadata": {},
     "output_type": "execute_result"
    }
   ],
   "source": [
    "p1.hand"
   ]
  },
  {
   "cell_type": "code",
   "execution_count": 20,
   "metadata": {
    "collapsed": false
   },
   "outputs": [
    {
     "data": {
      "text/plain": [
       "0"
      ]
     },
     "execution_count": 20,
     "metadata": {},
     "output_type": "execute_result"
    }
   ],
   "source": [
    "len(deck.cards)"
   ]
  },
  {
   "cell_type": "code",
   "execution_count": null,
   "metadata": {
    "collapsed": true
   },
   "outputs": [],
   "source": []
  },
  {
   "cell_type": "code",
   "execution_count": null,
   "metadata": {
    "collapsed": true
   },
   "outputs": [],
   "source": []
  },
  {
   "cell_type": "code",
   "execution_count": null,
   "metadata": {
    "collapsed": true
   },
   "outputs": [],
   "source": []
  }
 ],
 "metadata": {
  "kernelspec": {
   "display_name": "Python 3",
   "language": "python",
   "name": "python3"
  },
  "language_info": {
   "codemirror_mode": {
    "name": "ipython",
    "version": 3
   },
   "file_extension": ".py",
   "mimetype": "text/x-python",
   "name": "python",
   "nbconvert_exporter": "python",
   "pygments_lexer": "ipython3",
   "version": "3.5.0"
  }
 },
 "nbformat": 4,
 "nbformat_minor": 0
}
